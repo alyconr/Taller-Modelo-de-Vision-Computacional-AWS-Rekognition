{
 "cells": [
  {
   "cell_type": "markdown",
   "metadata": {},
   "source": [
    "# 1. Preparación de Entorno"
   ]
  },
  {
   "cell_type": "code",
   "execution_count": 24,
   "metadata": {},
   "outputs": [
    {
     "data": {
      "text/plain": [
       "True"
      ]
     },
     "execution_count": 24,
     "metadata": {},
     "output_type": "execute_result"
    }
   ],
   "source": [
    "#IMPORTANTE, REEMPLAZAMOS \"XXX\" POR NUESTRAS INICIALES\n",
    "bucket = \"datasetsjac\"\n",
    "\n",
    "from dotenv import load_dotenv\n",
    "import os\n",
    "import boto3\n",
    "\n",
    "# Carga las variables de entorno desde el archivo .env\n",
    "load_dotenv()"
   ]
  },
  {
   "cell_type": "code",
   "execution_count": 25,
   "metadata": {},
   "outputs": [],
   "source": [
    "access_key_id = os.getenv('AWS_ACCESS_KEY_ID')\n",
    "secret_access_key = os.getenv('AWS_SECRET_ACCESS_KEY')\n",
    "region = os.getenv('AWS_DEFAULT_REGION')"
   ]
  },
  {
   "cell_type": "markdown",
   "metadata": {},
   "source": [
    "# 2. Conexión al servicio"
   ]
  },
  {
   "cell_type": "code",
   "execution_count": 26,
   "metadata": {},
   "outputs": [],
   "source": [
    "#Obtenemos el cliente de servicio\n",
    "rekognition = boto3.client(\n",
    "  \"rekognition\", #Servicio al que nos conectamos\n",
    "  aws_access_key_id = access_key_id, #Identificador de la clave\n",
    "  aws_secret_access_key = secret_access_key, #Contraseña de la clave\n",
    "  region_name = region #Región de la clave\n",
    ")"
   ]
  },
  {
   "cell_type": "markdown",
   "metadata": {},
   "source": [
    "# 3. Envío de consulta al modelo"
   ]
  },
  {
   "cell_type": "code",
   "execution_count": 27,
   "metadata": {},
   "outputs": [],
   "source": [
    "#Nombre del modelo\n",
    "modelo = \"arn:aws:rekognition:us-east-1:767828747956:project/modelo_visual_jac/version/modelo_visual_jac.2024-10-21T10.50.21/1729525821839\""
   ]
  },
  {
   "cell_type": "code",
   "execution_count": 28,
   "metadata": {},
   "outputs": [],
   "source": [
    "#Probabilidad tolerable de la predicción\n",
    "#Por ejemplo, solo consideraremos la predicción si excede un 50% de probabilidad\n",
    "probabilidadMinima = 50"
   ]
  },
  {
   "cell_type": "code",
   "execution_count": 29,
   "metadata": {},
   "outputs": [],
   "source": [
    "#Realizamos la consulta\n",
    "respuesta = rekognition.detect_custom_labels(\n",
    "  Image = { #Indicamos la imagen\n",
    "    \"S3Object\": { #Físicamente, la imagen se encuentra en S3\n",
    "      \"Bucket\": bucket, #Bucket de la imagen, \n",
    "      \"Name\": \"analisis/TORNILLO.png\" #Ruta de la imagen\n",
    "    }\n",
    "  },\n",
    "  MinConfidence = probabilidadMinima,\n",
    "  ProjectVersionArn = modelo\n",
    ")"
   ]
  },
  {
   "cell_type": "markdown",
   "metadata": {},
   "source": [
    "# 4. Extracción de predicción"
   ]
  },
  {
   "cell_type": "code",
   "execution_count": 30,
   "metadata": {},
   "outputs": [
    {
     "data": {
      "text/plain": [
       "{'CustomLabels': [{'Name': 'ERROR', 'Confidence': 53.20500183105469}],\n",
       " 'ResponseMetadata': {'RequestId': 'e7aec42b-bca0-4d05-a226-4c69d7f334e4',\n",
       "  'HTTPStatusCode': 200,\n",
       "  'HTTPHeaders': {'x-amzn-requestid': 'e7aec42b-bca0-4d05-a226-4c69d7f334e4',\n",
       "   'content-type': 'application/x-amz-json-1.1',\n",
       "   'content-length': '66',\n",
       "   'date': 'Mon, 21 Oct 2024 17:17:06 GMT'},\n",
       "  'RetryAttempts': 0}}"
      ]
     },
     "execution_count": 30,
     "metadata": {},
     "output_type": "execute_result"
    }
   ],
   "source": [
    "#Vemos la respuesta\n",
    "respuesta"
   ]
  },
  {
   "cell_type": "code",
   "execution_count": 31,
   "metadata": {},
   "outputs": [
    {
     "data": {
      "text/plain": [
       "'ERROR'"
      ]
     },
     "execution_count": 31,
     "metadata": {},
     "output_type": "execute_result"
    }
   ],
   "source": [
    "#Extraemos la predicción\n",
    "respuesta[\"CustomLabels\"][0][\"Name\"]"
   ]
  },
  {
   "cell_type": "code",
   "execution_count": 32,
   "metadata": {},
   "outputs": [
    {
     "data": {
      "text/plain": [
       "53.20500183105469"
      ]
     },
     "execution_count": 32,
     "metadata": {},
     "output_type": "execute_result"
    }
   ],
   "source": [
    "#Extraemos la probabilidad de la predicción\n",
    "respuesta[\"CustomLabels\"][0][\"Confidence\"]"
   ]
  }
 ],
 "metadata": {
  "kernelspec": {
   "display_name": "base",
   "language": "python",
   "name": "python3"
  },
  "language_info": {
   "codemirror_mode": {
    "name": "ipython",
    "version": 3
   },
   "file_extension": ".py",
   "mimetype": "text/x-python",
   "name": "python",
   "nbconvert_exporter": "python",
   "pygments_lexer": "ipython3",
   "version": "3.12.4"
  }
 },
 "nbformat": 4,
 "nbformat_minor": 2
}
